{
 "cells": [
  {
   "cell_type": "code",
   "execution_count": 19,
   "metadata": {},
   "outputs": [],
   "source": [
    "%reload_ext autoreload\n",
    "%autoreload 2\n",
    "%matplotlib inline\n",
    "\n",
    "import warnings\n",
    "import sys\n",
    "import numpy as np\n",
    "\n",
    "sys.path.append(\"../\")\n",
    "\n",
    "warnings.filterwarnings(\"ignore\")"
   ]
  },
  {
   "cell_type": "code",
   "execution_count": 20,
   "metadata": {},
   "outputs": [],
   "source": [
    "import os\n",
    "\n",
    "data_dir = \"/data/aaemeljanov/training_data_v10/processed/\"\n",
    "train_path = data_dir + \"brexit_parsed.csv\"\n",
    "valid_path = data_dir + \"asia_bibi_parsed.csv\"\n",
    "model_dir = \"/home/aaemeljanov/models/multi_cased_L-12_H-768_A-12/\"\n",
    "init_checkpoint_pt = os.path.join(model_dir, \"pytorch_model.bin\")\n",
    "bert_config_file = os.path.join(model_dir, \"bert_config.json\")\n",
    "vocab_file = os.path.join(model_dir, \"vocab.txt\")"
   ]
  },
  {
   "cell_type": "code",
   "execution_count": 3,
   "metadata": {},
   "outputs": [],
   "source": [
    "import pandas as pd"
   ]
  },
  {
   "cell_type": "code",
   "execution_count": 4,
   "metadata": {},
   "outputs": [],
   "source": [
    "tr = pd.read_csv(train_path)"
   ]
  },
  {
   "cell_type": "code",
   "execution_count": 5,
   "metadata": {},
   "outputs": [],
   "source": [
    "vl = pd.read_csv(valid_path)"
   ]
  },
  {
   "cell_type": "code",
   "execution_count": 6,
   "metadata": {},
   "outputs": [
    {
     "data": {
      "text/plain": [
       "(22621, 5457)"
      ]
     },
     "execution_count": 6,
     "metadata": {},
     "output_type": "execute_result"
    }
   ],
   "source": [
    "len(tr), len(vl)"
   ]
  },
  {
   "cell_type": "code",
   "execution_count": 7,
   "metadata": {},
   "outputs": [],
   "source": [
    "tr = tr.append(vl)"
   ]
  },
  {
   "cell_type": "code",
   "execution_count": 8,
   "metadata": {},
   "outputs": [
    {
     "data": {
      "text/plain": [
       "28078"
      ]
     },
     "execution_count": 8,
     "metadata": {},
     "output_type": "execute_result"
    }
   ],
   "source": [
    "len(tr)"
   ]
  },
  {
   "cell_type": "code",
   "execution_count": 9,
   "metadata": {},
   "outputs": [],
   "source": [
    "tr.to_csv(data_dir + \"all.csv\", index=False)"
   ]
  },
  {
   "cell_type": "code",
   "execution_count": 12,
   "metadata": {},
   "outputs": [],
   "source": [
    "from modules import BertNerData as NerData\n",
    "from modules.models.bert_models import BertBiLSTMAttnNMTJoint, BertBiLSTMAttnNCRFJoint\n",
    "from modules import NerLearner"
   ]
  },
  {
   "cell_type": "code",
   "execution_count": 5,
   "metadata": {},
   "outputs": [
    {
     "name": "stderr",
     "output_type": "stream",
     "text": [
      "                                                       \r"
     ]
    }
   ],
   "source": [
    "data = NerData.create(train_path, valid_path, vocab_file, is_cls=True, batch_size=16)"
   ]
  },
  {
   "cell_type": "code",
   "execution_count": 6,
   "metadata": {},
   "outputs": [],
   "source": [
    "import torch"
   ]
  },
  {
   "cell_type": "code",
   "execution_count": 7,
   "metadata": {},
   "outputs": [],
   "source": [
    "torch.cuda.set_device(1)"
   ]
  },
  {
   "cell_type": "code",
   "execution_count": 8,
   "metadata": {},
   "outputs": [
    {
     "name": "stdout",
     "output_type": "stream",
     "text": [
      "build CRF...\n"
     ]
    }
   ],
   "source": [
    "model = BertBiLSTMAttnNCRFJoint.create(\n",
    "        len(data.label2idx), len(data.cls2idx), bert_config_file, init_checkpoint_pt,\n",
    "        enc_hidden_dim=1024, rnn_layers=1, num_heads=6, input_dropout=0.5, nbest=11)"
   ]
  },
  {
   "cell_type": "code",
   "execution_count": 9,
   "metadata": {},
   "outputs": [],
   "source": [
    "num_epochs = 150\n",
    "learner = NerLearner(model, data,\n",
    "                     best_model_path=\"/home/aaemeljanov/models/AGRR-2019/slavic-clf.cpt\",\n",
    "                     lr=0.0001, clip=1.0, sup_labels=data.id2label[1:],\n",
    "                     t_total=num_epochs * len(data.train_dl))"
   ]
  },
  {
   "cell_type": "code",
   "execution_count": 10,
   "metadata": {},
   "outputs": [],
   "source": [
    "learner.load_model()"
   ]
  },
  {
   "cell_type": "code",
   "execution_count": 11,
   "metadata": {},
   "outputs": [],
   "source": [
    "from modules.data.bert_data import get_bert_data_loader_for_predict"
   ]
  },
  {
   "cell_type": "code",
   "execution_count": 12,
   "metadata": {},
   "outputs": [
    {
     "name": "stderr",
     "output_type": "stream",
     "text": [
      "                                                     \r"
     ]
    }
   ],
   "source": [
    "dl = get_bert_data_loader_for_predict(valid_path, learner)"
   ]
  },
  {
   "cell_type": "code",
   "execution_count": 39,
   "metadata": {
    "scrolled": true
   },
   "outputs": [
    {
     "name": "stderr",
     "output_type": "stream",
     "text": [
      "                                                 \r"
     ]
    }
   ],
   "source": [
    "preds_res, preds_cls = learner.predict(dl)"
   ]
  },
  {
   "cell_type": "code",
   "execution_count": 40,
   "metadata": {},
   "outputs": [],
   "source": [
    "from sklearn_crfsuite.metrics import flat_classification_report"
   ]
  },
  {
   "cell_type": "code",
   "execution_count": 41,
   "metadata": {},
   "outputs": [],
   "source": [
    "from modules.utils.utils import bert_labels2tokens, first_choicer"
   ]
  },
  {
   "cell_type": "code",
   "execution_count": 69,
   "metadata": {},
   "outputs": [],
   "source": [
    "pred_tokens, pred_labels = bert_labels2tokens(dl, preds_res)\n",
    "true_tokens, true_labels = bert_labels2tokens(dl, [x.labels for x in dl.dataset])"
   ]
  },
  {
   "cell_type": "code",
   "execution_count": 70,
   "metadata": {},
   "outputs": [
    {
     "data": {
      "text/plain": [
       "5457"
      ]
     },
     "execution_count": 70,
     "metadata": {},
     "output_type": "execute_result"
    }
   ],
   "source": [
    "len(true_tokens)"
   ]
  },
  {
   "cell_type": "code",
   "execution_count": 71,
   "metadata": {},
   "outputs": [],
   "source": [
    "assert pred_tokens == true_tokens\n",
    "tokens_report = flat_classification_report(true_labels, pred_labels)"
   ]
  },
  {
   "cell_type": "code",
   "execution_count": 72,
   "metadata": {},
   "outputs": [
    {
     "name": "stdout",
     "output_type": "stream",
     "text": [
      "              precision    recall  f1-score   support\n",
      "\n",
      "       I_EVT       0.53      0.32      0.40        53\n",
      "       I_LOC       0.69      0.91      0.78      1432\n",
      "         I_O       0.99      0.99      0.99     72129\n",
      "       I_ORG       0.71      0.70      0.71      1869\n",
      "       I_PER       0.88      0.82      0.85      4107\n",
      "       I_PRO       0.45      0.53      0.49       244\n",
      "\n",
      "   micro avg       0.97      0.97      0.97     79834\n",
      "   macro avg       0.71      0.71      0.70     79834\n",
      "weighted avg       0.97      0.97      0.97     79834\n",
      "\n"
     ]
    }
   ],
   "source": [
    "print(tokens_report)"
   ]
  },
  {
   "cell_type": "code",
   "execution_count": 45,
   "metadata": {},
   "outputs": [
    {
     "data": {
      "text/plain": [
       "(0.971378109577373, 0.7029411114912586)"
      ]
     },
     "execution_count": 45,
     "metadata": {},
     "output_type": "execute_result"
    }
   ],
   "source": [
    "from sklearn.metrics import accuracy_score, f1_score\n",
    "\n",
    "pl = []\n",
    "for line in pred_labels:\n",
    "    for p in line:\n",
    "        pl.append(p)\n",
    "        \n",
    "tl = []\n",
    "for line in true_labels:\n",
    "    for p in line:\n",
    "        tl.append(p)\n",
    "accuracy_score(tl, pl), f1_score(tl, pl, average=\"macro\")"
   ]
  },
  {
   "cell_type": "code",
   "execution_count": 49,
   "metadata": {},
   "outputs": [],
   "source": [
    "true_cls = [x.cls for x in dl.dataset]"
   ]
  },
  {
   "cell_type": "code",
   "execution_count": 54,
   "metadata": {},
   "outputs": [
    {
     "name": "stdout",
     "output_type": "stream",
     "text": [
      "              precision    recall  f1-score   support\n",
      "\n",
      "       False       0.83      0.99      0.90      1727\n",
      "        True       1.00      0.91      0.95      3730\n",
      "\n",
      "   micro avg       0.93      0.93      0.93      5457\n",
      "   macro avg       0.91      0.95      0.93      5457\n",
      "weighted avg       0.94      0.93      0.93      5457\n",
      "\n"
     ]
    }
   ],
   "source": [
    "print(flat_classification_report([true_cls], [preds_cls]))"
   ]
  },
  {
   "cell_type": "markdown",
   "metadata": {},
   "source": [
    "### Fix with cls result"
   ]
  },
  {
   "cell_type": "code",
   "execution_count": 57,
   "metadata": {},
   "outputs": [
    {
     "data": {
      "text/plain": [
       "2068"
      ]
     },
     "execution_count": 57,
     "metadata": {},
     "output_type": "execute_result"
    }
   ],
   "source": [
    "len(preds_cls) - np.array(preds_cls).sum()"
   ]
  },
  {
   "cell_type": "code",
   "execution_count": 47,
   "metadata": {},
   "outputs": [],
   "source": [
    "fixed_labels = []\n",
    "for cls, label in zip(preds_cls, pred_tokens):\n",
    "    if not cls:\n",
    "        label = [\"I_O\"] * len(label)\n",
    "    fixed_labels.append(label)"
   ]
  },
  {
   "cell_type": "code",
   "execution_count": 48,
   "metadata": {},
   "outputs": [
    {
     "data": {
      "text/plain": [
       "(0.3545732394719042, 4.998277433302695e-05)"
      ]
     },
     "execution_count": 48,
     "metadata": {},
     "output_type": "execute_result"
    }
   ],
   "source": [
    "from sklearn.metrics import accuracy_score, f1_score\n",
    "\n",
    "pl = []\n",
    "for line in fixed_labels:\n",
    "    for p in line:\n",
    "        pl.append(p)\n",
    "\n",
    "tl = []\n",
    "for line in true_labels:\n",
    "    for p in line:\n",
    "        tl.append(p)\n",
    "accuracy_score(tl, pl), f1_score(tl, pl, average=\"macro\")"
   ]
  },
  {
   "cell_type": "code",
   "execution_count": 58,
   "metadata": {},
   "outputs": [],
   "source": [
    "from modules.utils.utils import tokens2spans"
   ]
  },
  {
   "cell_type": "code",
   "execution_count": 59,
   "metadata": {},
   "outputs": [],
   "source": [
    "pred_spans = tokens2spans(pred_tokens, pred_labels)"
   ]
  },
  {
   "cell_type": "code",
   "execution_count": 60,
   "metadata": {},
   "outputs": [],
   "source": [
    "true_spans = tokens2spans(true_tokens, true_labels)"
   ]
  },
  {
   "cell_type": "code",
   "execution_count": 61,
   "metadata": {},
   "outputs": [],
   "source": [
    "from modules.utils.plot_metrics import get_bert_span_report"
   ]
  },
  {
   "cell_type": "code",
   "execution_count": 62,
   "metadata": {},
   "outputs": [],
   "source": [
    "from modules.utils.utils import voting_choicer"
   ]
  },
  {
   "cell_type": "code",
   "execution_count": 74,
   "metadata": {},
   "outputs": [
    {
     "name": "stdout",
     "output_type": "stream",
     "text": [
      "              precision    recall  f1-score   support\n",
      "\n",
      "         PER      0.733     0.725     0.729      2851\n",
      "         PRO      0.384     0.547     0.451       170\n",
      "         EVT      0.385     0.370     0.377        27\n",
      "         LOC      0.648     0.872     0.744      1472\n",
      "         ORG      0.550     0.630     0.587       986\n",
      "\n",
      "   micro avg      0.658     0.740     0.696      5506\n",
      "   macro avg      0.540     0.629     0.578      5506\n",
      "weighted avg      0.665     0.740     0.697      5506\n",
      "\n"
     ]
    }
   ],
   "source": [
    "print(get_bert_span_report(dl, preds_res, fn=first_choicer))"
   ]
  },
  {
   "cell_type": "code",
   "execution_count": 64,
   "metadata": {},
   "outputs": [
    {
     "data": {
      "text/plain": [
       "144"
      ]
     },
     "execution_count": 64,
     "metadata": {},
     "output_type": "execute_result"
    }
   ],
   "source": [
    "max([len(data.train_dl.dataset[idx].bert_tokens) for idx in range(len(data.train_dl.dataset))])"
   ]
  },
  {
   "cell_type": "markdown",
   "metadata": {},
   "source": [
    "### Predict test"
   ]
  },
  {
   "cell_type": "code",
   "execution_count": 21,
   "metadata": {},
   "outputs": [],
   "source": [
    "test_path = data_dir + \"test.csv\""
   ]
  },
  {
   "cell_type": "code",
   "execution_count": null,
   "metadata": {},
   "outputs": [],
   "source": [
    "from modules import BertNerData as NerData\n",
    "from modules.models.bert_models import BertBiLSTMAttnNMTJoint, BertBiLSTMAttnNCRFJoint\n",
    "from modules import NerLearner\n",
    "\n",
    "data = NerData.create(train_path, test_path, vocab_file, is_cls=True, batch_size=16)"
   ]
  },
  {
   "cell_type": "code",
   "execution_count": 17,
   "metadata": {},
   "outputs": [
    {
     "data": {
      "text/plain": [
       "{False: 1, 'O': 2, True: 0}"
      ]
     },
     "execution_count": 17,
     "metadata": {},
     "output_type": "execute_result"
    }
   ],
   "source": [
    "data.cls2idx"
   ]
  },
  {
   "cell_type": "code",
   "execution_count": 18,
   "metadata": {},
   "outputs": [
    {
     "name": "stdout",
     "output_type": "stream",
     "text": [
      "build CRF...\n"
     ]
    }
   ],
   "source": [
    "import torch\n",
    "\n",
    "torch.cuda.set_device(4)\n",
    "\n",
    "model = BertBiLSTMAttnNCRFJoint.create(\n",
    "        len(data.label2idx), 2, bert_config_file, init_checkpoint_pt,\n",
    "        enc_hidden_dim=1024, rnn_layers=1, num_heads=6, input_dropout=0.5, nbest=11)\n",
    "# model = BertBiLSTMAttnNMTJoint.create(\n",
    "#    len(data.label2idx), len(data.cls2idx), bert_config_file, init_checkpoint_pt,\n",
    "#    enc_hidden_dim=128, rnn_layers=1, dec_embedding_dim=32, dec_hidden_dim=128, input_dropout=0.5, nbest=11)\n",
    "# model = torch.nn.DataParallel(model, [2, 3])\n",
    "num_epochs = 150\n",
    "learner = NerLearner(model, data,\n",
    "                     best_model_path=\"/home/aaemeljanov/models/AGRR-2019/slavic-all.cpt\",\n",
    "                     lr=0.0001, clip=1.0, sup_labels=data.id2label[1:],\n",
    "                     t_total=num_epochs * len(data.train_dl))\n"
   ]
  },
  {
   "cell_type": "code",
   "execution_count": 20,
   "metadata": {},
   "outputs": [],
   "source": [
    "learner.load_model()"
   ]
  },
  {
   "cell_type": "code",
   "execution_count": 21,
   "metadata": {},
   "outputs": [
    {
     "name": "stderr",
     "output_type": "stream",
     "text": [
      "                                                       \r"
     ]
    }
   ],
   "source": [
    "from modules.data.bert_data import get_bert_data_loader_for_predict\n",
    "\n",
    "dl = get_bert_data_loader_for_predict(test_path, learner)"
   ]
  },
  {
   "cell_type": "code",
   "execution_count": 23,
   "metadata": {},
   "outputs": [
    {
     "name": "stderr",
     "output_type": "stream",
     "text": [
      "                                                 \r"
     ]
    }
   ],
   "source": [
    "preds_res, preds_cls = learner.predict(dl)"
   ]
  },
  {
   "cell_type": "code",
   "execution_count": 52,
   "metadata": {},
   "outputs": [],
   "source": [
    "from modules.utils.utils import bert_labels2tokens, first_choicer\n",
    "\n",
    "pred_tokens, pred_labels = bert_labels2tokens(dl, preds_res, fn=first_choicer)"
   ]
  },
  {
   "cell_type": "code",
   "execution_count": 53,
   "metadata": {},
   "outputs": [],
   "source": [
    "from modules.utils.utils import tokens2spans"
   ]
  },
  {
   "cell_type": "code",
   "execution_count": 54,
   "metadata": {},
   "outputs": [],
   "source": [
    "pred_spans = tokens2spans(pred_tokens, pred_labels)"
   ]
  },
  {
   "cell_type": "markdown",
   "metadata": {},
   "source": [
    "#### To annotation df"
   ]
  },
  {
   "cell_type": "code",
   "execution_count": 16,
   "metadata": {},
   "outputs": [],
   "source": [
    "import pandas as pd"
   ]
  },
  {
   "cell_type": "code",
   "execution_count": 22,
   "metadata": {},
   "outputs": [],
   "source": [
    "tdf = pd.read_csv(test_path)"
   ]
  },
  {
   "cell_type": "code",
   "execution_count": 58,
   "metadata": {},
   "outputs": [],
   "source": [
    "tdf[\"spans\"] = pred_spans"
   ]
  },
  {
   "cell_type": "code",
   "execution_count": 70,
   "metadata": {},
   "outputs": [],
   "source": [
    "paths = []\n",
    "annotations = []"
   ]
  },
  {
   "cell_type": "code",
   "execution_count": 71,
   "metadata": {},
   "outputs": [],
   "source": [
    "for path, group in tdf.groupby(\"path\"):\n",
    "    path = path.split(\"|\")[1].replace(\"/home/aaemeljanov/data/\", \"\")\n",
    "    l = [r for _, r in group.iterrows()]\n",
    "    spans = {}\n",
    "    for r in l:\n",
    "        for s in r.spans:\n",
    "            if s[1] != \"O\":\n",
    "                spans[s[0]] = s[1]\n",
    "    annotation = \"\\n\".join([\"{}\\tNormalForm\\t{}\".format(k, spans[k]) for k in spans])\n",
    "    paths.append(path)\n",
    "    annotations.append(annotation)"
   ]
  },
  {
   "cell_type": "code",
   "execution_count": 72,
   "metadata": {},
   "outputs": [
    {
     "data": {
      "text/plain": [
       "'raw/nord_stream/bg/nord_stream_bg.txt_file_1003.txt'"
      ]
     },
     "execution_count": 72,
     "metadata": {},
     "output_type": "execute_result"
    }
   ],
   "source": [
    "paths[0]"
   ]
  },
  {
   "cell_type": "code",
   "execution_count": 73,
   "metadata": {},
   "outputs": [
    {
     "name": "stdout",
     "output_type": "stream",
     "text": [
      "Германия\tNoralForm\tLOC\n",
      "Украйна\tNoralForm\tLOC\n",
      "Швеция\tNoralForm\tLOC\n",
      "Русия\tNoralForm\tLOC\n",
      "Витренко\tNoralForm\tPER\n",
      "Европа“\tNoralForm\tLOC\n",
      "Европа\tNoralForm\tLOC\n",
      "Дания\tNoralForm\tLOC\n",
      "Юрий Витренко\tNoralForm\tPER\n"
     ]
    }
   ],
   "source": [
    "print(annotations[0])"
   ]
  },
  {
   "cell_type": "code",
   "execution_count": 74,
   "metadata": {},
   "outputs": [],
   "source": [
    "res_df = pd.DataFrame({\"paths\": paths, \"annotations\": annotations})"
   ]
  },
  {
   "cell_type": "code",
   "execution_count": 75,
   "metadata": {},
   "outputs": [
    {
     "data": {
      "text/html": [
       "<div>\n",
       "<style scoped>\n",
       "    .dataframe tbody tr th:only-of-type {\n",
       "        vertical-align: middle;\n",
       "    }\n",
       "\n",
       "    .dataframe tbody tr th {\n",
       "        vertical-align: top;\n",
       "    }\n",
       "\n",
       "    .dataframe thead th {\n",
       "        text-align: right;\n",
       "    }\n",
       "</style>\n",
       "<table border=\"1\" class=\"dataframe\">\n",
       "  <thead>\n",
       "    <tr style=\"text-align: right;\">\n",
       "      <th></th>\n",
       "      <th>annotations</th>\n",
       "      <th>paths</th>\n",
       "    </tr>\n",
       "  </thead>\n",
       "  <tbody>\n",
       "    <tr>\n",
       "      <th>0</th>\n",
       "      <td>Германия\\tNoralForm\\tLOC\\nУкрайна\\tNoralForm\\t...</td>\n",
       "      <td>raw/nord_stream/bg/nord_stream_bg.txt_file_100...</td>\n",
       "    </tr>\n",
       "    <tr>\n",
       "      <th>1</th>\n",
       "      <td>Германия\\tNoralForm\\tLOC\\nШвеция\\tNoralForm\\tL...</td>\n",
       "      <td>raw/nord_stream/bg/nord_stream_bg.txt_file_100...</td>\n",
       "    </tr>\n",
       "    <tr>\n",
       "      <th>2</th>\n",
       "      <td>Куртика\\tNoralForm\\tPER\\nпоток\\tNoralForm\\tLOC...</td>\n",
       "      <td>raw/nord_stream/bg/nord_stream_bg.txt_file_100...</td>\n",
       "    </tr>\n",
       "    <tr>\n",
       "      <th>3</th>\n",
       "      <td>Варшава\\tNoralForm\\tLOC\\nЕС\\tNoralForm\\tORG\\nП...</td>\n",
       "      <td>raw/nord_stream/bg/nord_stream_bg.txt_file_100...</td>\n",
       "    </tr>\n",
       "    <tr>\n",
       "      <th>4</th>\n",
       "      <td>Германия\\tNoralForm\\tLOC\\nУкрайна\\tNoralForm\\t...</td>\n",
       "      <td>raw/nord_stream/bg/nord_stream_bg.txt_file_100...</td>\n",
       "    </tr>\n",
       "  </tbody>\n",
       "</table>\n",
       "</div>"
      ],
      "text/plain": [
       "                                         annotations  \\\n",
       "0  Германия\\tNoralForm\\tLOC\\nУкрайна\\tNoralForm\\t...   \n",
       "1  Германия\\tNoralForm\\tLOC\\nШвеция\\tNoralForm\\tL...   \n",
       "2  Куртика\\tNoralForm\\tPER\\nпоток\\tNoralForm\\tLOC...   \n",
       "3  Варшава\\tNoralForm\\tLOC\\nЕС\\tNoralForm\\tORG\\nП...   \n",
       "4  Германия\\tNoralForm\\tLOC\\nУкрайна\\tNoralForm\\t...   \n",
       "\n",
       "                                               paths  \n",
       "0  raw/nord_stream/bg/nord_stream_bg.txt_file_100...  \n",
       "1  raw/nord_stream/bg/nord_stream_bg.txt_file_100...  \n",
       "2  raw/nord_stream/bg/nord_stream_bg.txt_file_100...  \n",
       "3  raw/nord_stream/bg/nord_stream_bg.txt_file_100...  \n",
       "4  raw/nord_stream/bg/nord_stream_bg.txt_file_100...  "
      ]
     },
     "execution_count": 75,
     "metadata": {},
     "output_type": "execute_result"
    }
   ],
   "source": [
    "res_df.head()"
   ]
  },
  {
   "cell_type": "code",
   "execution_count": 76,
   "metadata": {},
   "outputs": [],
   "source": [
    "res_df.to_csv(\"/home/aaemeljanov/data/test_pred_slavic.csv\", index=False)"
   ]
  },
  {
   "cell_type": "markdown",
   "metadata": {},
   "source": [
    "### Add index"
   ]
  },
  {
   "cell_type": "code",
   "execution_count": 1,
   "metadata": {},
   "outputs": [],
   "source": [
    "import pandas as pd"
   ]
  },
  {
   "cell_type": "code",
   "execution_count": 39,
   "metadata": {},
   "outputs": [],
   "source": [
    "tdf = pd.read_csv(\"test_df.csv\")"
   ]
  },
  {
   "cell_type": "code",
   "execution_count": 45,
   "metadata": {},
   "outputs": [
    {
     "data": {
      "text/html": [
       "<div>\n",
       "<style scoped>\n",
       "    .dataframe tbody tr th:only-of-type {\n",
       "        vertical-align: middle;\n",
       "    }\n",
       "\n",
       "    .dataframe tbody tr th {\n",
       "        vertical-align: top;\n",
       "    }\n",
       "\n",
       "    .dataframe thead th {\n",
       "        text-align: right;\n",
       "    }\n",
       "</style>\n",
       "<table border=\"1\" class=\"dataframe\">\n",
       "  <thead>\n",
       "    <tr style=\"text-align: right;\">\n",
       "      <th></th>\n",
       "      <th>Unnamed: 0</th>\n",
       "      <th>tokens</th>\n",
       "      <th>tags</th>\n",
       "      <th>lang</th>\n",
       "      <th>path</th>\n",
       "      <th>domain</th>\n",
       "      <th>cltags</th>\n",
       "    </tr>\n",
       "  </thead>\n",
       "  <tbody>\n",
       "    <tr>\n",
       "      <th>0</th>\n",
       "      <td>0</td>\n",
       "      <td>германия</td>\n",
       "      <td>LOC</td>\n",
       "      <td>bg</td>\n",
       "      <td>raw/nord_stream/bg/nord_stream_bg.txt_file_100...</td>\n",
       "      <td>nord_stream</td>\n",
       "      <td>LOC-0</td>\n",
       "    </tr>\n",
       "    <tr>\n",
       "      <th>1</th>\n",
       "      <td>1</td>\n",
       "      <td>украйна</td>\n",
       "      <td>LOC</td>\n",
       "      <td>bg</td>\n",
       "      <td>raw/nord_stream/bg/nord_stream_bg.txt_file_100...</td>\n",
       "      <td>nord_stream</td>\n",
       "      <td>LOC-1</td>\n",
       "    </tr>\n",
       "    <tr>\n",
       "      <th>2</th>\n",
       "      <td>2</td>\n",
       "      <td>швеция</td>\n",
       "      <td>LOC</td>\n",
       "      <td>bg</td>\n",
       "      <td>raw/nord_stream/bg/nord_stream_bg.txt_file_100...</td>\n",
       "      <td>nord_stream</td>\n",
       "      <td>LOC-2</td>\n",
       "    </tr>\n",
       "    <tr>\n",
       "      <th>3</th>\n",
       "      <td>3</td>\n",
       "      <td>русия</td>\n",
       "      <td>LOC</td>\n",
       "      <td>bg</td>\n",
       "      <td>raw/nord_stream/bg/nord_stream_bg.txt_file_100...</td>\n",
       "      <td>nord_stream</td>\n",
       "      <td>LOC-3</td>\n",
       "    </tr>\n",
       "    <tr>\n",
       "      <th>4</th>\n",
       "      <td>4</td>\n",
       "      <td>витренко</td>\n",
       "      <td>PER</td>\n",
       "      <td>bg</td>\n",
       "      <td>raw/nord_stream/bg/nord_stream_bg.txt_file_100...</td>\n",
       "      <td>nord_stream</td>\n",
       "      <td>PER-4</td>\n",
       "    </tr>\n",
       "    <tr>\n",
       "      <th>5</th>\n",
       "      <td>5</td>\n",
       "      <td>европа</td>\n",
       "      <td>LOC</td>\n",
       "      <td>bg</td>\n",
       "      <td>raw/nord_stream/bg/nord_stream_bg.txt_file_100...</td>\n",
       "      <td>nord_stream</td>\n",
       "      <td>LOC-5</td>\n",
       "    </tr>\n",
       "    <tr>\n",
       "      <th>6</th>\n",
       "      <td>7</td>\n",
       "      <td>дания</td>\n",
       "      <td>LOC</td>\n",
       "      <td>bg</td>\n",
       "      <td>raw/nord_stream/bg/nord_stream_bg.txt_file_100...</td>\n",
       "      <td>nord_stream</td>\n",
       "      <td>LOC-6</td>\n",
       "    </tr>\n",
       "    <tr>\n",
       "      <th>7</th>\n",
       "      <td>8</td>\n",
       "      <td>юрий_витренко</td>\n",
       "      <td>PER</td>\n",
       "      <td>bg</td>\n",
       "      <td>raw/nord_stream/bg/nord_stream_bg.txt_file_100...</td>\n",
       "      <td>nord_stream</td>\n",
       "      <td>PER-7</td>\n",
       "    </tr>\n",
       "    <tr>\n",
       "      <th>8</th>\n",
       "      <td>11</td>\n",
       "      <td>бисер_петков</td>\n",
       "      <td>PER</td>\n",
       "      <td>bg</td>\n",
       "      <td>raw/nord_stream/bg/nord_stream_bg.txt_file_100...</td>\n",
       "      <td>nord_stream</td>\n",
       "      <td>PER-8</td>\n",
       "    </tr>\n",
       "    <tr>\n",
       "      <th>9</th>\n",
       "      <td>12</td>\n",
       "      <td>георге_иванова</td>\n",
       "      <td>PER</td>\n",
       "      <td>bg</td>\n",
       "      <td>raw/nord_stream/bg/nord_stream_bg.txt_file_100...</td>\n",
       "      <td>nord_stream</td>\n",
       "      <td>PER-9</td>\n",
       "    </tr>\n",
       "  </tbody>\n",
       "</table>\n",
       "</div>"
      ],
      "text/plain": [
       "   Unnamed: 0          tokens tags lang  \\\n",
       "0           0        германия  LOC   bg   \n",
       "1           1         украйна  LOC   bg   \n",
       "2           2          швеция  LOC   bg   \n",
       "3           3           русия  LOC   bg   \n",
       "4           4        витренко  PER   bg   \n",
       "5           5          европа  LOC   bg   \n",
       "6           7           дания  LOC   bg   \n",
       "7           8   юрий_витренко  PER   bg   \n",
       "8          11    бисер_петков  PER   bg   \n",
       "9          12  георге_иванова  PER   bg   \n",
       "\n",
       "                                                path       domain cltags  \n",
       "0  raw/nord_stream/bg/nord_stream_bg.txt_file_100...  nord_stream  LOC-0  \n",
       "1  raw/nord_stream/bg/nord_stream_bg.txt_file_100...  nord_stream  LOC-1  \n",
       "2  raw/nord_stream/bg/nord_stream_bg.txt_file_100...  nord_stream  LOC-2  \n",
       "3  raw/nord_stream/bg/nord_stream_bg.txt_file_100...  nord_stream  LOC-3  \n",
       "4  raw/nord_stream/bg/nord_stream_bg.txt_file_100...  nord_stream  PER-4  \n",
       "5  raw/nord_stream/bg/nord_stream_bg.txt_file_100...  nord_stream  LOC-5  \n",
       "6  raw/nord_stream/bg/nord_stream_bg.txt_file_100...  nord_stream  LOC-6  \n",
       "7  raw/nord_stream/bg/nord_stream_bg.txt_file_100...  nord_stream  PER-7  \n",
       "8  raw/nord_stream/bg/nord_stream_bg.txt_file_100...  nord_stream  PER-8  \n",
       "9  raw/nord_stream/bg/nord_stream_bg.txt_file_100...  nord_stream  PER-9  "
      ]
     },
     "execution_count": 45,
     "metadata": {},
     "output_type": "execute_result"
    }
   ],
   "source": [
    "tdf.head(10)"
   ]
  },
  {
   "cell_type": "code",
   "execution_count": 7,
   "metadata": {},
   "outputs": [],
   "source": [
    "res_df = pd.read_csv(\"/home/aaemeljanov/data/test_pred_slavic.csv\")"
   ]
  },
  {
   "cell_type": "code",
   "execution_count": 8,
   "metadata": {},
   "outputs": [
    {
     "data": {
      "text/html": [
       "<div>\n",
       "<style scoped>\n",
       "    .dataframe tbody tr th:only-of-type {\n",
       "        vertical-align: middle;\n",
       "    }\n",
       "\n",
       "    .dataframe tbody tr th {\n",
       "        vertical-align: top;\n",
       "    }\n",
       "\n",
       "    .dataframe thead th {\n",
       "        text-align: right;\n",
       "    }\n",
       "</style>\n",
       "<table border=\"1\" class=\"dataframe\">\n",
       "  <thead>\n",
       "    <tr style=\"text-align: right;\">\n",
       "      <th></th>\n",
       "      <th>annotations</th>\n",
       "      <th>paths</th>\n",
       "    </tr>\n",
       "  </thead>\n",
       "  <tbody>\n",
       "    <tr>\n",
       "      <th>0</th>\n",
       "      <td>Германия\\tNoralForm\\tLOC\\nУкрайна\\tNoralForm\\t...</td>\n",
       "      <td>raw/nord_stream/bg/nord_stream_bg.txt_file_100...</td>\n",
       "    </tr>\n",
       "    <tr>\n",
       "      <th>1</th>\n",
       "      <td>Германия\\tNoralForm\\tLOC\\nШвеция\\tNoralForm\\tL...</td>\n",
       "      <td>raw/nord_stream/bg/nord_stream_bg.txt_file_100...</td>\n",
       "    </tr>\n",
       "    <tr>\n",
       "      <th>2</th>\n",
       "      <td>Куртика\\tNoralForm\\tPER\\nпоток\\tNoralForm\\tLOC...</td>\n",
       "      <td>raw/nord_stream/bg/nord_stream_bg.txt_file_100...</td>\n",
       "    </tr>\n",
       "    <tr>\n",
       "      <th>3</th>\n",
       "      <td>Варшава\\tNoralForm\\tLOC\\nЕС\\tNoralForm\\tORG\\nП...</td>\n",
       "      <td>raw/nord_stream/bg/nord_stream_bg.txt_file_100...</td>\n",
       "    </tr>\n",
       "    <tr>\n",
       "      <th>4</th>\n",
       "      <td>Германия\\tNoralForm\\tLOC\\nУкрайна\\tNoralForm\\t...</td>\n",
       "      <td>raw/nord_stream/bg/nord_stream_bg.txt_file_100...</td>\n",
       "    </tr>\n",
       "  </tbody>\n",
       "</table>\n",
       "</div>"
      ],
      "text/plain": [
       "                                         annotations  \\\n",
       "0  Германия\\tNoralForm\\tLOC\\nУкрайна\\tNoralForm\\t...   \n",
       "1  Германия\\tNoralForm\\tLOC\\nШвеция\\tNoralForm\\tL...   \n",
       "2  Куртика\\tNoralForm\\tPER\\nпоток\\tNoralForm\\tLOC...   \n",
       "3  Варшава\\tNoralForm\\tLOC\\nЕС\\tNoralForm\\tORG\\nП...   \n",
       "4  Германия\\tNoralForm\\tLOC\\nУкрайна\\tNoralForm\\t...   \n",
       "\n",
       "                                               paths  \n",
       "0  raw/nord_stream/bg/nord_stream_bg.txt_file_100...  \n",
       "1  raw/nord_stream/bg/nord_stream_bg.txt_file_100...  \n",
       "2  raw/nord_stream/bg/nord_stream_bg.txt_file_100...  \n",
       "3  raw/nord_stream/bg/nord_stream_bg.txt_file_100...  \n",
       "4  raw/nord_stream/bg/nord_stream_bg.txt_file_100...  "
      ]
     },
     "execution_count": 8,
     "metadata": {},
     "output_type": "execute_result"
    }
   ],
   "source": [
    "res_df.head()"
   ]
  },
  {
   "cell_type": "code",
   "execution_count": 105,
   "metadata": {},
   "outputs": [],
   "source": [
    "paths = []\n",
    "annotations = []"
   ]
  },
  {
   "cell_type": "code",
   "execution_count": 109,
   "metadata": {},
   "outputs": [],
   "source": [
    "for path, group in tdf.groupby(\"path\"):\n",
    "    l = [r for _, r in group.iterrows()]\n",
    "    text = \"{}-{}\".format(path.split(\"/\")[2], path.split(\".\")[-2].split(\"_\")[-1])\n",
    "    for r in l:\n",
    "        if isinstance(r.tokens, str):\n",
    "            tokens = r.tokens.replace(\"_\", \" \")\n",
    "            tag = r.tags\n",
    "            cltags = r.cltags\n",
    "            normal_form = \"NormalForm\"\n",
    "            line = \"\\n{}\\t{}\\t{}\\t{}\".format(tokens, normal_form, tag, cltags)\n",
    "            text+=line\n",
    "    path = \"/home/aaemeljanov/data/annotated/\" + path[4:-3] + \"out\"\n",
    "    with open(path, \"w\", encoding=\"utf-8\") as f:\n",
    "        f.write(text)\n",
    "    paths.append(path)\n",
    "    annotations.append(text)"
   ]
  },
  {
   "cell_type": "code",
   "execution_count": 113,
   "metadata": {},
   "outputs": [
    {
     "data": {
      "text/plain": [
       "2394"
      ]
     },
     "execution_count": 113,
     "metadata": {},
     "output_type": "execute_result"
    }
   ],
   "source": [
    "len(annotations)"
   ]
  },
  {
   "cell_type": "code",
   "execution_count": 115,
   "metadata": {},
   "outputs": [
    {
     "data": {
      "text/plain": [
       "2394"
      ]
     },
     "execution_count": 115,
     "metadata": {},
     "output_type": "execute_result"
    }
   ],
   "source": [
    "len(paths)"
   ]
  },
  {
   "cell_type": "code",
   "execution_count": null,
   "metadata": {},
   "outputs": [],
   "source": [
    "!"
   ]
  }
 ],
 "metadata": {
  "kernelspec": {
   "display_name": "venv",
   "language": "python",
   "name": "venv"
  },
  "language_info": {
   "codemirror_mode": {
    "name": "ipython",
    "version": 3
   },
   "file_extension": ".py",
   "mimetype": "text/x-python",
   "name": "python",
   "nbconvert_exporter": "python",
   "pygments_lexer": "ipython3",
   "version": "3.5.2"
  }
 },
 "nbformat": 4,
 "nbformat_minor": 2
}
